{
 "cells": [
  {
   "cell_type": "code",
   "execution_count": 1,
   "metadata": {},
   "outputs": [],
   "source": [
    "import pandas as pd, numpy as np, collections, functools\n",
    "\n",
    "# Question input & settings.\n",
    "max_difference = 3\n",
    "adapters = pd.read_csv(\"./input/Day-10.txt\", header=None)[0].values\n",
    "# Sorting the adapters based on their input joltage, adding the charging outlet ([0]) and the target joltage. \n",
    "target_joltage = adapters.max() + max_difference\n",
    "adapters = [0] + sorted(adapters) + [target_joltage]"
   ]
  },
  {
   "cell_type": "markdown",
   "metadata": {},
   "source": [
    "### Q1: Using all the adapters, multiply the number of 1-differences with the number of 3-differences. "
   ]
  },
  {
   "cell_type": "code",
   "execution_count": 2,
   "metadata": {},
   "outputs": [
    {
     "name": "stdout",
     "output_type": "stream",
     "text": [
      "36.5 µs ± 3.28 µs per loop (mean ± std. dev. of 7 runs, 10000 loops each)\n",
      "3000\n"
     ]
    }
   ],
   "source": [
    "def q1():\n",
    "    joltage_differences = collections.Counter(np.diff(adapters))\n",
    "    return joltage_differences[1] * joltage_differences[3]\n",
    "\n",
    "%timeit q1()\n",
    "print(q1())"
   ]
  },
  {
   "cell_type": "markdown",
   "metadata": {},
   "source": [
    "### Q2: Find the number of all possible combinations to get to the target joltage."
   ]
  },
  {
   "cell_type": "code",
   "execution_count": 8,
   "metadata": {},
   "outputs": [
    {
     "name": "stdout",
     "output_type": "stream",
     "text": [
      "1.78 ms ± 26.8 µs per loop (mean ± std. dev. of 7 runs, 1000 loops each)\n",
      "193434623148032\n"
     ]
    }
   ],
   "source": [
    "def q2():\n",
    "    # dict: adapter joltage -> {available adapters which can be used directly prior to this adapter}\n",
    "    adapters_priors = dict((adapter, set(adapter - joltage for joltage in range(1, max_difference + 1)).intersection(adapters))\n",
    "                            for adapter in adapters)\n",
    "\n",
    "    @functools.lru_cache(maxsize=None)\n",
    "    def count_adapter_combinations(joltage):\n",
    "        return 1 if joltage == 0 else sum(map(count_adapter_combinations, adapters_priors[joltage]))\n",
    "\n",
    "    return count_adapter_combinations(target_joltage)\n",
    "\n",
    "%timeit q2()\n",
    "print(q2())"
   ]
  }
 ],
 "metadata": {
  "kernelspec": {
   "display_name": "Python 3",
   "language": "python",
   "name": "python3"
  },
  "language_info": {
   "codemirror_mode": {
    "name": "ipython",
    "version": 3
   },
   "file_extension": ".py",
   "mimetype": "text/x-python",
   "name": "python",
   "nbconvert_exporter": "python",
   "pygments_lexer": "ipython3",
   "version": "3.8.3"
  }
 },
 "nbformat": 4,
 "nbformat_minor": 4
}
