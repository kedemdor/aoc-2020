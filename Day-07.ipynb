{
 "cells": [
  {
   "cell_type": "code",
   "execution_count": 1,
   "metadata": {},
   "outputs": [
    {
     "name": "stdout",
     "output_type": "stream",
     "text": [
      "5.55 ms ± 255 µs per loop (mean ± std. dev. of 7 runs, 100 loops each)\n"
     ]
    }
   ],
   "source": [
    "import re, functools, timeit\n",
    "\n",
    "with open(\"./input/Day-07.txt\") as bag_regulations_file:\n",
    "    bag_regulations_lines = bag_regulations_file.readlines()\n",
    "\n",
    "# Parse bag regulations to dictionary: outer_bag -> dict([(inner_bag1, amount1), (inner_bag2, amount2), ...])\n",
    "def create_bag_regulations_dict(bag_regulations_lines):\n",
    "    bag_regulations_pattern = re.compile(\"(?P<amount>\\d+)? ?(?P<adjective_color>\\w+ \\w+) bag[s]?\\W\")\n",
    "    bag_regulations_parsed = [re.findall(bag_regulations_pattern, bag_regulation) for bag_regulation in bag_regulations_lines]\n",
    "    return dict(\n",
    "        (brp[0][1], set((inner_bag[1], int(inner_bag[0])) for inner_bag in brp[1:] if inner_bag[1] != 'no other')) \n",
    "         for brp in bag_regulations_parsed)\n",
    "\n",
    "%timeit create_bag_regulations_dict(bag_regulations_lines)\n",
    "bag_regulations = create_bag_regulations_dict(bag_regulations_lines)\n",
    "\n",
    "my_bag_type = 'shiny gold'  # Specifying my own bag type."
   ]
  },
  {
   "cell_type": "markdown",
   "metadata": {},
   "source": [
    "### Q1: How many bag types contain a shiny gold bag?"
   ]
  },
  {
   "cell_type": "code",
   "execution_count": 2,
   "metadata": {},
   "outputs": [
    {
     "name": "stdout",
     "output_type": "stream",
     "text": [
      "1.96 ms ± 80.8 µs per loop (mean ± std. dev. of 7 runs, 1000 loops each)\n",
      "Q1: Bag types containing the shiny gold bag: 257.\n"
     ]
    }
   ],
   "source": [
    "def timing1():\n",
    "    @functools.lru_cache(maxsize=None)\n",
    "    def contains_bag(outer_bag, given_bag):\n",
    "        \"\"\" Checks if the outer bag contains the given bag (either as inner bag or within one of the inner bags). \"\"\"\n",
    "        return (   any(given_bag == inner_bag_spec[0]             for inner_bag_spec in bag_regulations[outer_bag])\n",
    "                or any(contains_bag(inner_bag_spec[0], given_bag) for inner_bag_spec in bag_regulations[outer_bag]))\n",
    "    return sum(contains_bag(bag, my_bag_type) for bag in bag_regulations)\n",
    "\n",
    "%timeit timing1()\n",
    "print(f\"Q1: Bag types containing the {my_bag_type} bag: {timing1()}.\")"
   ]
  },
  {
   "cell_type": "markdown",
   "metadata": {},
   "source": [
    "### Q2: How many bags can are inside the shiny gold checked bag?"
   ]
  },
  {
   "cell_type": "code",
   "execution_count": 3,
   "metadata": {},
   "outputs": [
    {
     "name": "stdout",
     "output_type": "stream",
     "text": [
      "34.5 µs ± 1.45 µs per loop (mean ± std. dev. of 7 runs, 10000 loops each)\n",
      "Q2: Number of bags inside the shiny gold bag: 1038.\n"
     ]
    }
   ],
   "source": [
    "def timing2():\n",
    "    @functools.lru_cache(maxsize=None)\n",
    "    def count_total_checked_bags(checked_bag):\n",
    "        \"\"\" Counts the total number of checked bags (incl. the bag itself). \"\"\"\n",
    "        return (1                                                                              # Current bag.\n",
    "                + sum(inner_bag_details[1] * (count_total_checked_bags(inner_bag_details[0]))  # Inner bags.\n",
    "                      for inner_bag_details in bag_regulations[checked_bag]))\n",
    "    return (count_total_checked_bags(my_bag_type) - 1)\n",
    "\n",
    "%timeit timing2()\n",
    "print(f\"Q2: Number of bags inside the {my_bag_type} bag: {timing2()}.\")"
   ]
  }
 ],
 "metadata": {
  "kernelspec": {
   "display_name": "Python 3",
   "language": "python",
   "name": "python3"
  },
  "language_info": {
   "codemirror_mode": {
    "name": "ipython",
    "version": 3
   },
   "file_extension": ".py",
   "mimetype": "text/x-python",
   "name": "python",
   "nbconvert_exporter": "python",
   "pygments_lexer": "ipython3",
   "version": "3.8.3"
  }
 },
 "nbformat": 4,
 "nbformat_minor": 4
}
