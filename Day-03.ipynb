{
 "cells": [
  {
   "cell_type": "markdown",
   "metadata": {},
   "source": [
    "## Day 3 - Hitting trees down the slope of an expanding map (to the right)\n",
    "* Q1 - Count number of trees hit in one slope direction.\n",
    "* Q2 - Calculate the product of the number of trees hit in different slopes."
   ]
  },
  {
   "cell_type": "code",
   "execution_count": 1,
   "metadata": {},
   "outputs": [
    {
     "name": "stdout",
     "output_type": "stream",
     "text": [
      "Q1: Number of trees hit in slope (1, 3): 299.\n",
      "Q2: Product of slopes [(1, 1), (1, 3), (1, 5), (1, 7), (2, 1)]: 3621285278.\n"
     ]
    }
   ],
   "source": [
    "import math, pandas as pd\n",
    "\n",
    "landscape = pd.read_csv(\"./input/Day-03.txt\", header=None)[0].str.extractall('(.)')[0].unstack().values\n",
    "\n",
    "def calc_tree_hits(slope):\n",
    "    locations_visited = [(i * slope[0], i * slope[1] % landscape.shape[1]) for i in range(landscape.shape[0] // slope[0])]\n",
    "    hit_tree = [landscape[i,j] == '#' for (i,j) in locations_visited]\n",
    "    return sum(hit_tree)\n",
    "\n",
    "print(f\"Q1: Number of trees hit in slope (1, 3): {calc_tree_hits((1, 3))}.\")\n",
    "slopes = [(1, 1), (1, 3), (1, 5), (1, 7), (2, 1)]\n",
    "print(f\"Q2: Product of slopes {slopes}: {math.prod(map(calc_tree_hits, slopes))}.\")"
   ]
  }
 ],
 "metadata": {
  "kernelspec": {
   "display_name": "Python 3",
   "language": "python",
   "name": "python3"
  },
  "language_info": {
   "codemirror_mode": {
    "name": "ipython",
    "version": 3
   },
   "file_extension": ".py",
   "mimetype": "text/x-python",
   "name": "python",
   "nbconvert_exporter": "python",
   "pygments_lexer": "ipython3",
   "version": "3.8.3"
  }
 },
 "nbformat": 4,
 "nbformat_minor": 4
}
