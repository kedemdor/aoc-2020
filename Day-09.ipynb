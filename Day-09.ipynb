{
 "cells": [
  {
   "cell_type": "code",
   "execution_count": 1,
   "metadata": {},
   "outputs": [
    {
     "name": "stdout",
     "output_type": "stream",
     "text": [
      "339 ms ± 18 ms per loop (mean ± std. dev. of 7 runs, 1 loop each)\n",
      "Q1: 756008079\n",
      "335 µs ± 23.3 µs per loop (mean ± std. dev. of 7 runs, 1000 loops each)\n",
      "Q2: 93727241\n"
     ]
    }
   ],
   "source": [
    "import pandas as pd, numpy as np\n",
    "from itertools import combinations\n",
    "\n",
    "# Question input & settings.\n",
    "preamble_size = 25\n",
    "data_feed = pd.read_csv(\"./input/Day-09.txt\",header=None)[0].values\n",
    "\n",
    "# Q1: Find the first number which cannot be composed of a sum of two numbers in the previous preamble size numbers.\n",
    "def q1():\n",
    "    invalid_number = next(data_feed[i] \n",
    "                          for i in range(preamble_size, len(data_feed))\n",
    "                          if data_feed[i] not in set(sum(comb) for comb in combinations(data_feed[i - preamble_size:i], 2)))\n",
    "    return invalid_number\n",
    "%timeit q1()\n",
    "invalid_number = q1()\n",
    "print(\"Q1:\", invalid_number)\n",
    "\n",
    "# Q2: Find a contiguous set which sum matches the invalid number. Sum the min and max values of that set.\n",
    "def q2():\n",
    "    contiguous_set_sums = data_feed\n",
    "    for contiguous_set_size in range(2, len(data_feed)):\n",
    "        # Calculate the sums of the increased contiguous set size by adding the next number to each set.\n",
    "        contiguous_set_sums = contiguous_set_sums[:-1] + data_feed[contiguous_set_size-1:]\n",
    "        found_indices = np.where(contiguous_set_sums == invalid_number)[0]\n",
    "        if found_indices.size:\n",
    "            contiguous_set = data_feed[found_indices[0]:found_indices[0] + contiguous_set_size]\n",
    "            return contiguous_set.min() + contiguous_set.max() \n",
    "%timeit q2()\n",
    "print(\"Q2:\", q2())"
   ]
  }
 ],
 "metadata": {
  "kernelspec": {
   "display_name": "Python 3",
   "language": "python",
   "name": "python3"
  },
  "language_info": {
   "codemirror_mode": {
    "name": "ipython",
    "version": 3
   },
   "file_extension": ".py",
   "mimetype": "text/x-python",
   "name": "python",
   "nbconvert_exporter": "python",
   "pygments_lexer": "ipython3",
   "version": "3.8.3"
  }
 },
 "nbformat": 4,
 "nbformat_minor": 4
}
