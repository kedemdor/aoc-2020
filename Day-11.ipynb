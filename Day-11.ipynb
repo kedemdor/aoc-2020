{
 "cells": [
  {
   "cell_type": "code",
   "execution_count": 1,
   "metadata": {},
   "outputs": [],
   "source": [
    "import pandas as pd\n",
    "import numpy as np\n",
    "from itertools import product\n",
    "from scipy.signal import convolve2d"
   ]
  },
  {
   "cell_type": "markdown",
   "metadata": {},
   "source": [
    "### Reading initial seating input."
   ]
  },
  {
   "cell_type": "code",
   "execution_count": 2,
   "metadata": {},
   "outputs": [],
   "source": [
    "seating = pd.read_csv(\"./input/Day-11.txt\",header=None)[0].str.extractall('(.)')[0].unstack().values\n",
    "# Convert char representation: 'L' = empty (-1), '.' = floor (0), '#' occupied (1).\n",
    "seating = (seating == '#') * 1 - (seating == 'L') * 1"
   ]
  },
  {
   "cell_type": "markdown",
   "metadata": {},
   "source": [
    "### Generic solver for the stable seating problem"
   ]
  },
  {
   "cell_type": "code",
   "execution_count": 3,
   "metadata": {},
   "outputs": [],
   "source": [
    "def solve_stable_seating(seating, adjacency_matrix_calculator, occupied_tolerance):\n",
    "    \"\"\" Solves the stable seating problem, returning the total number of occupied seats. \"\"\"\n",
    "    seat_changes = np.array([1])\n",
    "    seating = np.copy(seating)\n",
    "    while seat_changes.any():\n",
    "        adjacency_matrix = adjacency_matrix_calculator(seating) \n",
    "        seat_changes = (  (seating == -1) * (adjacency_matrix == 0)                  *  2   # New seats taken (-1 => 1)\n",
    "                        + (seating == 1)  * (adjacency_matrix >= occupied_tolerance) * -2)  # Releasing occupied seats (1 => -1)\n",
    "        seating += seat_changes\n",
    "    return (seating > 0).sum()"
   ]
  },
  {
   "cell_type": "markdown",
   "metadata": {},
   "source": [
    "### Q1: Adjacency is based on all 8-directions with distance of 1."
   ]
  },
  {
   "cell_type": "code",
   "execution_count": 4,
   "metadata": {},
   "outputs": [
    {
     "name": "stdout",
     "output_type": "stream",
     "text": [
      "112 ms ± 16.4 ms per loop (mean ± std. dev. of 7 runs, 10 loops each)\n",
      "Q1 2164\n"
     ]
    }
   ],
   "source": [
    "convolution_matrix = np.array([[1,1,1], [1,0,1], [1,1,1]])\n",
    "def adjacency_matrix_q1(seating):\n",
    "    return convolve2d(seating > 0, in2=convolution_matrix, boundary='fill', fillvalue=0)[1:-1,1:-1]\n",
    "\n",
    "%timeit     solve_stable_seating(seating, adjacency_matrix_calculator=adjacency_matrix_q1, occupied_tolerance=4)\n",
    "print(\"Q1\", solve_stable_seating(seating, adjacency_matrix_calculator=adjacency_matrix_q1, occupied_tolerance=4))"
   ]
  },
  {
   "cell_type": "markdown",
   "metadata": {},
   "source": [
    "### Q2: Adjacency is based on the first seen seat (free or occupied) in each of the 8 directions."
   ]
  },
  {
   "cell_type": "code",
   "execution_count": 5,
   "metadata": {},
   "outputs": [
    {
     "name": "stdout",
     "output_type": "stream",
     "text": [
      "2min 19s ± 10.3 s per loop (mean ± std. dev. of 7 runs, 1 loop each)\n",
      "Q2 1974\n"
     ]
    }
   ],
   "source": [
    "def adjacency_seat_q2(seating, row, col):\n",
    "    return np.sum([\n",
    "        1 == next((x for x in         np.flip( seating[:row,   col   ])     if x != 0), 0),  # UP\n",
    "        1 == next((x for x in                  seating[row+1:, col   ]      if x != 0), 0),  # DOWN\n",
    "        1 == next((x for x in         np.flip( seating[row,    :col  ])     if x != 0), 0),  # LEFT\n",
    "        1 == next((x for x in                  seating[row,    col+1:]      if x != 0), 0),  # RIGHT\n",
    "        1 == next((x for x in np.diag(         seating[row+1:, col+1:])     if x != 0), 0),  # BOTTOM-RIGHT\n",
    "        1 == next((x for x in np.diag(np.rot90(seating[row+1:, :col  ], 1)) if x != 0), 0),  # BOTTOM-LEFT\n",
    "        1 == next((x for x in np.diag(np.rot90(seating[:row,   :col  ], 2)) if x != 0), 0),  # TOP-LEFT\n",
    "        1 == next((x for x in np.diag(np.rot90(seating[:row,   col+1:], 3)) if x != 0), 0),  # TOP-RIGHT  \n",
    "    ])\n",
    "\n",
    "def adjacency_matrix_q2(seating):\n",
    "    return np.array([adjacency_seat_q2(seating, i, j) for i,j in product(range(seating.shape[0]), range(seating.shape[1]))])\\\n",
    "             .reshape([seating.shape[0],seating.shape[1]])\n",
    "\n",
    "%timeit     solve_stable_seating(seating, adjacency_matrix_calculator=adjacency_matrix_q2, occupied_tolerance=5)\n",
    "print(\"Q2\", solve_stable_seating(seating, adjacency_matrix_calculator=adjacency_matrix_q2, occupied_tolerance=5))"
   ]
  }
 ],
 "metadata": {
  "kernelspec": {
   "display_name": "Python 3",
   "language": "python",
   "name": "python3"
  },
  "language_info": {
   "codemirror_mode": {
    "name": "ipython",
    "version": 3
   },
   "file_extension": ".py",
   "mimetype": "text/x-python",
   "name": "python",
   "nbconvert_exporter": "python",
   "pygments_lexer": "ipython3",
   "version": "3.8.3"
  }
 },
 "nbformat": 4,
 "nbformat_minor": 4
}
