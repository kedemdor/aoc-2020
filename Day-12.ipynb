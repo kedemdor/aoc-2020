{
 "cells": [
  {
   "cell_type": "code",
   "execution_count": 1,
   "metadata": {},
   "outputs": [],
   "source": [
    "import numpy as np\n",
    "\n",
    "compass = {\"N\": np.array([0,1]), \"E\": np.array([1,0]), \"S\": np.array([0,-1]), \"W\": np.array([-1,0])}\n",
    "\n",
    "def rotate_2d_clockwise(vector, degrees):\n",
    "    # For 2D Rotation matrix, see: https://en.wikipedia.org/wiki/Rotation_matrix\n",
    "    radians = np.pi * degrees / 180.0 \n",
    "    return np.round(np.dot(vector, np.array([[np.cos(radians), -np.sin(radians)], \n",
    "                                             [np.sin(radians),  np.cos(radians)]])), 6)"
   ]
  },
  {
   "cell_type": "code",
   "execution_count": 2,
   "metadata": {},
   "outputs": [
    {
     "name": "stdout",
     "output_type": "stream",
     "text": [
      "6.17 ms ± 352 µs per loop (mean ± std. dev. of 7 runs, 100 loops each)\n",
      "Q1 757\n",
      "5.88 ms ± 152 µs per loop (mean ± std. dev. of 7 runs, 100 loops each)\n",
      "Q2 51249\n"
     ]
    }
   ],
   "source": [
    "with open(\"./input/Day-12.txt\") as instructions_file:\n",
    "    instructions = [(instruction[0], int(instruction[1:])) for instruction in instructions_file.readlines()]\n",
    "\n",
    "def sail(instructions, waypoint, is_compass_changing_waypoint):\n",
    "    \"\"\" Sailing according to the instructions, returning the Manhattan distance from origin. \"\"\"\n",
    "    position = np.array([0, 0],   dtype=np.float64)\n",
    "    waypoint = np.array(waypoint, dtype=np.float64) \n",
    "    for action, value in instructions:\n",
    "        if action in compass:  # Compass actions either shift the position (Q1) or the waypoint (Q2).\n",
    "            action_subject = waypoint if is_compass_changing_waypoint else position\n",
    "            action_subject += compass[action] * value\n",
    "        elif action == 'F':  # Sail forward. \n",
    "            position += waypoint * value\n",
    "        elif action == 'R':  # Turn the waypoint right.\n",
    "            waypoint = rotate_2d_clockwise(waypoint, degrees=value)\n",
    "        elif action == 'L':  # Turn the waypoint left.\n",
    "            waypoint = rotate_2d_clockwise(waypoint, degrees=-value)\n",
    "    return int(np.sum(np.abs(position)))\n",
    "\n",
    "%timeit     sail(instructions, waypoint=np.array([1, 0]),  is_compass_changing_waypoint=False)\n",
    "print(\"Q1\", sail(instructions, waypoint=np.array([1, 0]),  is_compass_changing_waypoint=False))\n",
    "%timeit     sail(instructions, waypoint=np.array([10, 1]), is_compass_changing_waypoint=True)\n",
    "print(\"Q2\", sail(instructions, waypoint=np.array([10, 1]), is_compass_changing_waypoint=True))"
   ]
  }
 ],
 "metadata": {
  "kernelspec": {
   "display_name": "Python 3",
   "language": "python",
   "name": "python3"
  },
  "language_info": {
   "codemirror_mode": {
    "name": "ipython",
    "version": 3
   },
   "file_extension": ".py",
   "mimetype": "text/x-python",
   "name": "python",
   "nbconvert_exporter": "python",
   "pygments_lexer": "ipython3",
   "version": "3.8.3"
  }
 },
 "nbformat": 4,
 "nbformat_minor": 4
}
