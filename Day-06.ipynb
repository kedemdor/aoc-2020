{
 "cells": [
  {
   "cell_type": "code",
   "execution_count": 3,
   "metadata": {},
   "outputs": [
    {
     "name": "stdout",
     "output_type": "stream",
     "text": [
      "Q1: 6161\n",
      "Q2: 2971\n"
     ]
    }
   ],
   "source": [
    "from collections import Counter\n",
    "\n",
    "# Read customs files: each line is one person in the group. Groups are separated by empty line.\n",
    "with open(\"./input/Day-06.txt\") as customs_forms_file:\n",
    "    customs_forms_lines = [line.strip() for line in customs_forms_file.readlines()]\n",
    "\n",
    "# Summarize each custom group's answers.\n",
    "custom_groups = [{'yes_answers_counts': Counter(customs_group.replace('\\n','')),     # Count yes answers for every question.\n",
    "                  'group_size': customs_group.count(\"\\n\") + 1}                       # Count group size.\n",
    "                 for customs_group in \"\\n\".join(customs_forms_lines).split('\\n\\n')]  # Divide lines to groups.\n",
    "\n",
    "# Q1: For each group, count the number of questions to which ANYONE answered \"yes\". What's the sum of counts?\n",
    "print(f\"Q1: {sum(len(cg['yes_answers_counts'].keys()) for cg in custom_groups)}\")\n",
    "# Q2: For each group, count the number of questions to which EVERYONE answered \"yes\". What's the sum of counts?\n",
    "print(f\"Q2: {sum(sum(yac == cg['group_size'] for yac in cg['yes_answers_counts'].values()) for cg in custom_groups)}\")"
   ]
  }
 ],
 "metadata": {
  "kernelspec": {
   "display_name": "Python 3",
   "language": "python",
   "name": "python3"
  },
  "language_info": {
   "codemirror_mode": {
    "name": "ipython",
    "version": 3
   },
   "file_extension": ".py",
   "mimetype": "text/x-python",
   "name": "python",
   "nbconvert_exporter": "python",
   "pygments_lexer": "ipython3",
   "version": "3.8.3"
  }
 },
 "nbformat": 4,
 "nbformat_minor": 4
}
