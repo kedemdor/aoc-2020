{
 "cells": [
  {
   "cell_type": "code",
   "execution_count": 4,
   "metadata": {},
   "outputs": [
    {
     "name": "stdout",
     "output_type": "stream",
     "text": [
      "158 ms ± 11.9 ms per loop (mean ± std. dev. of 7 runs, 10 loops each)\n",
      "Q1: (False, 1614)\n",
      "3.34 s ± 194 ms per loop (mean ± std. dev. of 7 runs, 1 loop each)\n",
      "Q2: (True, 1260)\n"
     ]
    }
   ],
   "source": [
    "import copy, pandas as pd\n",
    "\n",
    "# Read program.\n",
    "program = pd.read_csv('./input/Day-08.txt', header=None, sep=' ', names=['op', 'arg'])\n",
    "\n",
    "def run_program_and_fix_code(changes_allowed=1, executed=None, acc=0, current=0):\n",
    "    \"\"\" Runs the problem, attempts to fix it and returns whether the program completed and the value of acc. \"\"\"\n",
    "    executed = executed if executed else set()\n",
    "    while current < program.shape[0] and current not in executed:\n",
    "        executed.add(current)                                  # Keep track of current command.\n",
    "        if program.iloc[current]['op'] == 'acc':               # Change acc.\n",
    "            acc += program.iloc[current]['arg']  \n",
    "        elif changes_allowed:\n",
    "            # Attempt to treat jmp as nop and vice versa. Assumes that apart from acc, we could only have jmp & nop.\n",
    "            is_complete, fix_code_acc = run_program_and_fix_code(\n",
    "                changes_allowed=changes_allowed - 1, \n",
    "                executed=copy.copy(executed),\n",
    "                acc=acc, \n",
    "                current=current + (1 if program.iloc[current]['op'] == 'jmp' else program.iloc[current]['arg']))\n",
    "            # If fix worked, we keep it.\n",
    "            if is_complete:\n",
    "                return is_complete, fix_code_acc \n",
    "        # Move to the next command.\n",
    "        current += (1 if program.iloc[current]['op'] != 'jmp' else program.iloc[current]['arg'])\n",
    "    # Completed execution - either by completing the program (True) or infinite loop (False).\n",
    "    return current >= program.shape[0], acc\n",
    "\n",
    "%timeit run_program_and_fix_code(changes_allowed=0)\n",
    "print(f\"Q1: {run_program_and_fix_code(changes_allowed=0)}\")\n",
    "%timeit run_program_and_fix_code(changes_allowed=1)\n",
    "print(f\"Q2: {run_program_and_fix_code(changes_allowed=1)}\")"
   ]
  }
 ],
 "metadata": {
  "kernelspec": {
   "display_name": "Python 3",
   "language": "python",
   "name": "python3"
  },
  "language_info": {
   "codemirror_mode": {
    "name": "ipython",
    "version": 3
   },
   "file_extension": ".py",
   "mimetype": "text/x-python",
   "name": "python",
   "nbconvert_exporter": "python",
   "pygments_lexer": "ipython3",
   "version": "3.8.3"
  }
 },
 "nbformat": 4,
 "nbformat_minor": 4
}
