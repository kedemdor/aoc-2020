{
 "cells": [
  {
   "cell_type": "markdown",
   "metadata": {},
   "source": [
    "## Day 2 - Validate password policies\n",
    "* Q1: A specified character count in the password must be with a given range.\n",
    "* Q2: A specified character must appear exactly once in two positions in the password (index-1)."
   ]
  },
  {
   "cell_type": "markdown",
   "metadata": {},
   "source": [
    "### Reading & parsing password file."
   ]
  },
  {
   "cell_type": "code",
   "execution_count": 1,
   "metadata": {},
   "outputs": [],
   "source": [
    "import re\n",
    "\n",
    "with open(\"./input/Day-02.txt\") as password_file:\n",
    "    password_lines = password_file.readlines()\n",
    "\n",
    "password_line_pattern = re.compile(\"(?P<num1>\\d+)-(?P<num2>\\d+) (?P<char>\\w):\\s+(?P<password>.*)\\s*\")\n",
    "password_matches = [re.match(password_line_pattern, password_line) for password_line in password_lines]"
   ]
  },
  {
   "cell_type": "markdown",
   "metadata": {},
   "source": [
    "### Validating password policies."
   ]
  },
  {
   "cell_type": "code",
   "execution_count": 2,
   "metadata": {},
   "outputs": [
    {
     "name": "stdout",
     "output_type": "stream",
     "text": [
      "Total valid passwords for policy 1: 622.\n",
      "Total valid passwords for policy 2: 263.\n"
     ]
    }
   ],
   "source": [
    "def validate_policy1(match):\n",
    "    \"\"\" Policy: char counts need to be in range. \"\"\"\n",
    "    min_amount, max_amount, mandatory_char, password = match.groups()\n",
    "    mandatory_char_count = password.count(mandatory_char)\n",
    "    return int(min_amount) <= mandatory_char_count <= int(max_amount)\n",
    "\n",
    "def validate_policy2(match):\n",
    "    \"\"\" Policy: exactly one appearence of char in one of the two positions (index-1). \"\"\"\n",
    "    position1, position2, mandatory_char, password = match.groups()\n",
    "    return (password[int(position1) - 1] == mandatory_char) != (password[int(position2) - 1] == mandatory_char)\n",
    "\n",
    "print(f\"Total valid passwords for policy 1: {sum(map(validate_policy1, password_matches))}.\")\n",
    "print(f\"Total valid passwords for policy 2: {sum(map(validate_policy2, password_matches))}.\")"
   ]
  }
 ],
 "metadata": {
  "kernelspec": {
   "display_name": "Python 3",
   "language": "python",
   "name": "python3"
  },
  "language_info": {
   "codemirror_mode": {
    "name": "ipython",
    "version": 3
   },
   "file_extension": ".py",
   "mimetype": "text/x-python",
   "name": "python",
   "nbconvert_exporter": "python",
   "pygments_lexer": "ipython3",
   "version": "3.8.3"
  }
 },
 "nbformat": 4,
 "nbformat_minor": 4
}
