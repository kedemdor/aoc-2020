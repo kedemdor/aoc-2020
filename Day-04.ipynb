{
 "cells": [
  {
   "cell_type": "markdown",
   "metadata": {},
   "source": [
    "## Day 4 - Validating passport details\n",
    "* Q1: Validate that all mandatory fields are present.\n",
    "* Q2: Validate that all mandatory fields are present and their value adheres to policy."
   ]
  },
  {
   "cell_type": "markdown",
   "metadata": {},
   "source": [
    "### Read & parse each passport to a dictionary of fields"
   ]
  },
  {
   "cell_type": "code",
   "execution_count": 1,
   "metadata": {},
   "outputs": [],
   "source": [
    "import re\n",
    "\n",
    "with open(\"./input/Day-04.txt\") as passports_file:\n",
    "    passports_lines = [line.strip() for line in passports_file.readlines()]\n",
    "\n",
    "passports = [dict([field.split(':')                                           # Split each field to key-value pair.\n",
    "                   for field in passport_text.replace(\"\\n\",\" \").split(' ')])  # Divide passport to fields.\n",
    "             for passport_text in \"\\n\".join(passports_lines).split('\\n\\n')]   # Divide passports."
   ]
  },
  {
   "cell_type": "markdown",
   "metadata": {},
   "source": [
    "### Validate mandatory passport fields according to policy"
   ]
  },
  {
   "cell_type": "code",
   "execution_count": 2,
   "metadata": {},
   "outputs": [
    {
     "name": "stdout",
     "output_type": "stream",
     "text": [
      "Total valid for policy 1: 256.\n",
      "Total valid for policy 2: 198.\n"
     ]
    }
   ],
   "source": [
    "mandatory_fields = {(\"byr\", \"Birth year\",      \"^\\d{4}$\", lambda byr: 1920 <= int(byr) <= 2002),\n",
    "                    (\"iyr\", \"Issue year\",      \"^\\d{4}$\", lambda iyr: 2002 <= int(iyr) <= 2020),\n",
    "                    (\"eyr\", \"Expiration year\", \"^\\d{4}$\", lambda eyr: 2020 <= int(eyr) <= 2030),\n",
    "                    (\"hgt\", \"Height\",          \"^(\\d{2}in|\\d{3}cm)$\", \n",
    "                     lambda hgt: 150 <= int(hgt[:3]) <= 193 if hgt.endswith('cm') else 59 <= int(hgt[:2]) <= 76),\n",
    "                    (\"hcl\", \"Hair color\",      \"^#[0-9a-f]{6}$\", None),\n",
    "                    (\"ecl\", \"Eye color\",       \"^(amb|blu|brn|gry|grn|hzl|oth)$\", None),\n",
    "                    (\"pid\", \"Passport id\",     \"^\\d{9}$\", None)}\n",
    "\n",
    "def validate_passport_policy1(passport):\n",
    "    return all([field in passport for field, _, _, _ in mandatory_fields])\n",
    "\n",
    "def validate_passport_policy2(passport):\n",
    "    return all([field in passport \n",
    "                    and re.match(string_pattern, passport[field])\n",
    "                    and (not additional_validation_rule or additional_validation_rule(passport[field]))\n",
    "                for field, _, string_pattern, additional_validation_rule in mandatory_fields])\n",
    "\n",
    "print(f\"Total valid for policy 1: {sum(map(validate_passport_policy1, passports))}.\")\n",
    "print(f\"Total valid for policy 2: {sum(map(validate_passport_policy2, passports))}.\")"
   ]
  }
 ],
 "metadata": {
  "kernelspec": {
   "display_name": "Python 3",
   "language": "python",
   "name": "python3"
  },
  "language_info": {
   "codemirror_mode": {
    "name": "ipython",
    "version": 3
   },
   "file_extension": ".py",
   "mimetype": "text/x-python",
   "name": "python",
   "nbconvert_exporter": "python",
   "pygments_lexer": "ipython3",
   "version": "3.8.3"
  }
 },
 "nbformat": 4,
 "nbformat_minor": 4
}
