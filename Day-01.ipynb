{
 "cells": [
  {
   "cell_type": "markdown",
   "metadata": {},
   "source": [
    "## Day 1 - Finding combinations which sums to 2020\n",
    "* Q1: Find 2 amounts that sum to 2020 and calculate their product.\n",
    "* Q2: Find 3 amounts that sum to 2020 and calculate their product."
   ]
  },
  {
   "cell_type": "code",
   "execution_count": 1,
   "metadata": {},
   "outputs": [
    {
     "name": "stdout",
     "output_type": "stream",
     "text": [
      "Q1: {'amounts': (1902, 118), 'product': 224436}\n",
      "Q2: {'amounts': (689, 615, 716), 'product': 303394260}\n"
     ]
    }
   ],
   "source": [
    "from itertools import combinations\n",
    "from math import prod\n",
    "\n",
    "with open(\"./input/Day-01.txt\") as amounts_file:\n",
    "    amounts = [int(amount_line) for amount_line in amounts_file.readlines()]\n",
    "\n",
    "print(\"Q1: \" + str(next({'amounts': comb, 'product': prod(comb)} for comb in combinations(amounts, 2) if sum(comb) == 2020)))\n",
    "print(\"Q2: \" + str(next({'amounts': comb, 'product': prod(comb)} for comb in combinations(amounts, 3) if sum(comb) == 2020)))"
   ]
  }
 ],
 "metadata": {
  "kernelspec": {
   "display_name": "Python 3",
   "language": "python",
   "name": "python3"
  },
  "language_info": {
   "codemirror_mode": {
    "name": "ipython",
    "version": 3
   },
   "file_extension": ".py",
   "mimetype": "text/x-python",
   "name": "python",
   "nbconvert_exporter": "python",
   "pygments_lexer": "ipython3",
   "version": "3.8.3"
  }
 },
 "nbformat": 4,
 "nbformat_minor": 4
}
