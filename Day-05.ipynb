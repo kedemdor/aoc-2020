{
 "cells": [
  {
   "cell_type": "markdown",
   "metadata": {},
   "source": [
    "## Day 5 - Finding your binary missing seat\n",
    "* Q1: Find the maximal seat number on the plane.\n",
    "* Q2: Find your missing seat on a full flight."
   ]
  },
  {
   "cell_type": "code",
   "execution_count": 1,
   "metadata": {},
   "outputs": [
    {
     "name": "stdout",
     "output_type": "stream",
     "text": [
      "Q1 - Maximal seat number: 874\n",
      "Q2 - Missing seat number: 594\n"
     ]
    }
   ],
   "source": [
    "import re, pandas as pd\n",
    "\n",
    "# Read the seat codes from the input.\n",
    "seat_codes = pd.read_csv(\"./input/Day-05.txt\", header=None)[0]\n",
    "\n",
    "# Converting unordered seat codes to sorted seat numbers.\n",
    "binary_translator = str.maketrans({\"B\": \"1\", \"F\": \"0\", \"R\": \"1\", \"L\": \"0\"})\n",
    "sorted_seats = sorted(int(seat_code.translate(binary_translator), base=2) for seat_code in seat_codes)\n",
    "\n",
    "# Find maximal and missing seats.\n",
    "print(f\"Q1 - Maximal seat number: {sorted_seats[-1]}\")\n",
    "missing_seat = next(expected for expected, actual in zip(range(sorted_seats[0], sorted_seats[-1]), sorted_seats) \n",
    "                    if expected != actual)\n",
    "print(f\"Q2 - Missing seat number: {missing_seat}\")"
   ]
  }
 ],
 "metadata": {
  "kernelspec": {
   "display_name": "Python 3",
   "language": "python",
   "name": "python3"
  },
  "language_info": {
   "codemirror_mode": {
    "name": "ipython",
    "version": 3
   },
   "file_extension": ".py",
   "mimetype": "text/x-python",
   "name": "python",
   "nbconvert_exporter": "python",
   "pygments_lexer": "ipython3",
   "version": "3.8.3"
  }
 },
 "nbformat": 4,
 "nbformat_minor": 4
}
