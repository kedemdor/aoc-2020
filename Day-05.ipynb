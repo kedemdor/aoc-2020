{
 "cells": [
  {
   "cell_type": "markdown",
   "metadata": {},
   "source": [
    "## Day 5 - Finding your binary missing seat\n",
    "* Q1: Find the maximal seat number on the plane.\n",
    "* Q2: Find your missing seat on a full flight."
   ]
  },
  {
   "cell_type": "code",
   "execution_count": 1,
   "metadata": {},
   "outputs": [
    {
     "name": "stdout",
     "output_type": "stream",
     "text": [
      "2.18 ms ± 104 µs per loop (mean ± std. dev. of 7 runs, 100 loops each)\n",
      "Q1: Maximal seat number: 874\n",
      "Q2: The missing seat number: 594\n"
     ]
    }
   ],
   "source": [
    "import pandas as pd\n",
    "\n",
    "# Read the seat codes from the input.\n",
    "seat_codes = pd.read_csv(\"./input/Day-05.txt\", header=None)[0]\n",
    "\n",
    "# Converting seat code to seat numbers.\n",
    "def convert_seat_code_to_seat_number(seat_code):\n",
    "    for char, binary_char in {\"B\": \"1\", \"F\": \"0\", \"R\": \"1\", \"L\": \"0\"}.items():\n",
    "        seat_code = seat_code.replace(char, binary_char)\n",
    "    return int(seat_code, base=2)\n",
    "\n",
    "%timeit seat_codes.map(convert_seat_code_to_seat_number)\n",
    "seat_numbers = seat_codes.map(convert_seat_code_to_seat_number)\n",
    "\n",
    "# Find maximal and missing seats.\n",
    "print(f\"Q1: Maximal seat number: {max(seat_numbers)}\")\n",
    "missing_seat = next(filter(lambda expected_actual: expected_actual[0] != expected_actual[1], \n",
    "                           zip(range(min(seat_numbers), max(seat_numbers)), sorted(seat_numbers))))[0]\n",
    "print(f\"Q2: The missing seat number: {missing_seat}\")"
   ]
  },
  {
   "cell_type": "markdown",
   "metadata": {},
   "source": [
    "### A ~3.5 times slower (but 2-liner parser) regex sub version..."
   ]
  },
  {
   "cell_type": "code",
   "execution_count": 2,
   "metadata": {},
   "outputs": [
    {
     "name": "stdout",
     "output_type": "stream",
     "text": [
      "7.36 ms ± 264 µs per loop (mean ± std. dev. of 7 runs, 100 loops each)\n",
      "Q1: Maximal seat number: 874\n",
      "Q2: The missing seat number: 594\n"
     ]
    }
   ],
   "source": [
    "import re, pandas as pd\n",
    "\n",
    "# Read the seat codes from the input.\n",
    "seat_codes = pd.read_csv(\"./input/Day-05.txt\", header=None)[0]\n",
    "\n",
    "# Converting seat code to seat numbers.\n",
    "binary_translator = {\"B\": \"1\", \"F\": \"0\", \"R\": \"1\", \"L\": \"0\"}\n",
    "%timeit seat_codes.map(lambda seat_code: int(re.sub(\".\", lambda m: binary_translator[m.group(0)], seat_code), base=2))\n",
    "seat_numbers = seat_codes.map(lambda seat_code: int(re.sub(\".\", lambda m: binary_translator[m.group(0)], seat_code), base=2))\n",
    "\n",
    "# Find maximal and missing seats.\n",
    "print(f\"Q1: Maximal seat number: {max(seat_numbers)}\")\n",
    "missing_seat = next(filter(lambda expected_actual: expected_actual[0] != expected_actual[1], \n",
    "                           zip(range(min(seat_numbers), max(seat_numbers)), sorted(seat_numbers))))[0]\n",
    "print(f\"Q2: The missing seat number: {missing_seat}\")"
   ]
  }
 ],
 "metadata": {
  "kernelspec": {
   "display_name": "Python 3",
   "language": "python",
   "name": "python3"
  },
  "language_info": {
   "codemirror_mode": {
    "name": "ipython",
    "version": 3
   },
   "file_extension": ".py",
   "mimetype": "text/x-python",
   "name": "python",
   "nbconvert_exporter": "python",
   "pygments_lexer": "ipython3",
   "version": "3.8.3"
  }
 },
 "nbformat": 4,
 "nbformat_minor": 4
}
